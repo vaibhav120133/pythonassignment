{
 "cells": [
  {
   "cell_type": "markdown",
   "id": "43bf436b-8ff9-49af-995f-b09f69b8fa64",
   "metadata": {},
   "source": [
    "Python Assignment 1"
   ]
  },
  {
   "cell_type": "markdown",
   "id": "921f4c1a-8ece-4a5f-a1da-5362587ac8f1",
   "metadata": {},
   "source": [
    "Python Basics Variable"
   ]
  },
  {
   "cell_type": "markdown",
   "id": "dd537136-95ab-4e58-9e39-d68745aba101",
   "metadata": {},
   "source": [
    "Question 1"
   ]
  },
  {
   "cell_type": "code",
   "execution_count": null,
   "id": "f37d078c-a415-40e2-9524-c2af782a55f9",
   "metadata": {},
   "outputs": [],
   "source": [
    "a = 34\n",
    "b = 44\n",
    "a,b = b,a\n",
    "print(\"a =\",a)\n",
    "print(\"b =\",b)"
   ]
  },
  {
   "cell_type": "markdown",
   "id": "5b43bf16-efcc-4e4c-b574-fec6400924a8",
   "metadata": {},
   "source": [
    "Question 2"
   ]
  },
  {
   "cell_type": "code",
   "execution_count": null,
   "id": "8deb8f45-2387-476c-8821-9732fd02e889",
   "metadata": {},
   "outputs": [],
   "source": [
    "x=int(input(\"Enter a length :\"))\n",
    "y=int(input(\"Enter a width :\"))\n",
    "print(\"Area of reactangle is :\",x*y)"
   ]
  },
  {
   "cell_type": "markdown",
   "id": "5b6e6267-bc52-4903-a81a-9a329f69d631",
   "metadata": {},
   "source": [
    "Question 3"
   ]
  },
  {
   "cell_type": "code",
   "execution_count": null,
   "id": "a0c48330-5595-4669-9f40-3e2d32e6fab0",
   "metadata": {},
   "outputs": [],
   "source": [
    "c=int(input(\"Enter a value of celsius:\"))\n",
    "print(\"Value of celsius into fahrenheit is :\",((c* 9/5) + 32))\n"
   ]
  },
  {
   "cell_type": "markdown",
   "id": "2b16e4f8-40ae-42ab-bdcf-3a56bc76e745",
   "metadata": {},
   "source": [
    "String Based Questions"
   ]
  },
  {
   "cell_type": "markdown",
   "id": "2d654121-65c3-4d8d-8c03-13b69f150bec",
   "metadata": {},
   "source": [
    "Question 1"
   ]
  },
  {
   "cell_type": "code",
   "execution_count": 2,
   "id": "ff7332a0-113a-47dc-8f38-5d6f616bea62",
   "metadata": {},
   "outputs": [
    {
     "name": "stdin",
     "output_type": "stream",
     "text": [
      "Enter a string: fghfgh\n"
     ]
    },
    {
     "name": "stdout",
     "output_type": "stream",
     "text": [
      "6\n"
     ]
    }
   ],
   "source": [
    "s=str(input(\"Enter a string:\"))\n",
    "print(len(s))"
   ]
  },
  {
   "cell_type": "code",
   "execution_count": null,
   "id": "9cb9adcd-4818-4c30-9134-f301842c8f8d",
   "metadata": {},
   "outputs": [],
   "source": [
    "Question 2"
   ]
  },
  {
   "cell_type": "code",
   "execution_count": 12,
   "id": "1bbfc0c2-c794-42c8-8491-3aa3e062fb61",
   "metadata": {},
   "outputs": [
    {
     "name": "stdin",
     "output_type": "stream",
     "text": [
      "Enter a sentance : vaibav gupta\n"
     ]
    },
    {
     "name": "stdout",
     "output_type": "stream",
     "text": [
      "5\n"
     ]
    }
   ],
   "source": [
    "v=str(input(\"Enter a sentance :\"))\n",
    "print(v.count('a')+v.count('e')+v.count('i')+v.count('o')+v.count('u'))\n"
   ]
  },
  {
   "cell_type": "code",
   "execution_count": null,
   "id": "f0ec26a3-5145-42f8-bd56-5c3c6f62d576",
   "metadata": {},
   "outputs": [],
   "source": [
    "Question 3"
   ]
  },
  {
   "cell_type": "code",
   "execution_count": 16,
   "id": "66cb4559-07b2-4cf7-80ed-d68759fb79a2",
   "metadata": {},
   "outputs": [
    {
     "name": "stdout",
     "output_type": "stream",
     "text": [
      "atpug vahbiav\n"
     ]
    }
   ],
   "source": [
    "t=\"vaibhav gupta\"\n",
    "print(t[::-1])"
   ]
  },
  {
   "cell_type": "code",
   "execution_count": null,
   "id": "130e50de-5f5f-44e1-948f-e5217bc7173e",
   "metadata": {},
   "outputs": [],
   "source": [
    "Question 4"
   ]
  },
  {
   "cell_type": "code",
   "execution_count": 19,
   "id": "f5207330-69f0-4f23-88e9-ade39b08fefb",
   "metadata": {},
   "outputs": [
    {
     "name": "stdin",
     "output_type": "stream",
     "text": [
      "Enter a string to check palindrome: ashdstjt\n"
     ]
    },
    {
     "name": "stdout",
     "output_type": "stream",
     "text": [
      "it is not a palindrome\n"
     ]
    }
   ],
   "source": [
    "p=str(input(\"Enter a string to check palindrome:\"))\n",
    "r=p[::-1]\n",
    "if(p == r):\n",
    "    print(\"it a palindrome\")\n",
    "else:\n",
    "    print(\"it is not a palindrome\")"
   ]
  },
  {
   "cell_type": "code",
   "execution_count": null,
   "id": "6ebeb5f2-cdd1-4970-baf6-7161fe6c84ce",
   "metadata": {},
   "outputs": [],
   "source": [
    "Question 5"
   ]
  },
  {
   "cell_type": "code",
   "execution_count": 20,
   "id": "3e013de2-75f7-4a1e-b503-e9c70d71381c",
   "metadata": {},
   "outputs": [
    {
     "name": "stdin",
     "output_type": "stream",
     "text": [
      "Enter a string : fsf dfsf\n"
     ]
    },
    {
     "name": "stdout",
     "output_type": "stream",
     "text": [
      "fsfdfsf\n"
     ]
    }
   ],
   "source": [
    "u=str(input(\"Enter a string :\"))\n",
    "print(u.replace(\" \",\"\"))"
   ]
  }
 ],
 "metadata": {
  "kernelspec": {
   "display_name": "Python 3 (ipykernel)",
   "language": "python",
   "name": "python3"
  },
  "language_info": {
   "codemirror_mode": {
    "name": "ipython",
    "version": 3
   },
   "file_extension": ".py",
   "mimetype": "text/x-python",
   "name": "python",
   "nbconvert_exporter": "python",
   "pygments_lexer": "ipython3",
   "version": "3.10.8"
  }
 },
 "nbformat": 4,
 "nbformat_minor": 5
}
